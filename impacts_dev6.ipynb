{
 "cells": [
  {
   "cell_type": "code",
   "execution_count": 1,
   "metadata": {},
   "outputs": [],
   "source": [
    "import numpy as np\n",
    "import pandas as pd\n",
    "from matplotlib import pyplot as plt\n",
    "#from mpl_toolkits.mplot3d import Axes3D\n",
    "import random\n",
    "from tqdm.notebook import tqdm\n",
    "from math import sin, cos, sqrt, atan2, radians\n",
    "\n",
    "from ease_grid import EASE2_grid\n",
    "grid_size = 36000\n",
    "egrid = EASE2_grid(grid_size)\n",
    "assert egrid.shape == (406, 964)"
   ]
  },
  {
   "cell_type": "code",
   "execution_count": 2,
   "metadata": {},
   "outputs": [],
   "source": [
    "# Set the size bins\n",
    "diam_bins = [5, 10, 50, 100]\n",
    "diam_labs = ['005', '005-009', '010-050', '050-100', '100+']\n",
    "diam_range = {'005':[1,5],'005-009':[5,9],'010-050':[10,50],'050-100':[50,100],'100+':[100,330]}\n",
    "lambda_start = {'005':1,'005-009':1.1,'010-050':1.2,'050-100':1.4,'100+':1.8}\n",
    "lambda_end = {'005':2,'005-009':4,'010-050':8,'050-100':16,'100+':32}"
   ]
  },
  {
   "cell_type": "code",
   "execution_count": 3,
   "metadata": {},
   "outputs": [
    {
     "data": {
      "text/html": [
       "<div>\n",
       "<style scoped>\n",
       "    .dataframe tbody tr th:only-of-type {\n",
       "        vertical-align: middle;\n",
       "    }\n",
       "\n",
       "    .dataframe tbody tr th {\n",
       "        vertical-align: top;\n",
       "    }\n",
       "\n",
       "    .dataframe thead th {\n",
       "        text-align: right;\n",
       "    }\n",
       "</style>\n",
       "<table border=\"1\" class=\"dataframe\">\n",
       "  <thead>\n",
       "    <tr style=\"text-align: right;\">\n",
       "      <th></th>\n",
       "      <th>high</th>\n",
       "      <th>low</th>\n",
       "      <th>lambda_start</th>\n",
       "      <th>lambda_end</th>\n",
       "      <th>impact_factor</th>\n",
       "    </tr>\n",
       "  </thead>\n",
       "  <tbody>\n",
       "    <tr>\n",
       "      <th>005</th>\n",
       "      <td>16950000</td>\n",
       "      <td>1695000</td>\n",
       "      <td>1.0</td>\n",
       "      <td>2</td>\n",
       "      <td>0.1</td>\n",
       "    </tr>\n",
       "    <tr>\n",
       "      <th>005-009</th>\n",
       "      <td>855000</td>\n",
       "      <td>85500</td>\n",
       "      <td>1.1</td>\n",
       "      <td>4</td>\n",
       "      <td>0.2</td>\n",
       "    </tr>\n",
       "    <tr>\n",
       "      <th>010-050</th>\n",
       "      <td>146100</td>\n",
       "      <td>14610</td>\n",
       "      <td>1.2</td>\n",
       "      <td>8</td>\n",
       "      <td>0.3</td>\n",
       "    </tr>\n",
       "    <tr>\n",
       "      <th>050-100</th>\n",
       "      <td>8700</td>\n",
       "      <td>870</td>\n",
       "      <td>1.4</td>\n",
       "      <td>16</td>\n",
       "      <td>0.6</td>\n",
       "    </tr>\n",
       "    <tr>\n",
       "      <th>100+</th>\n",
       "      <td>3050</td>\n",
       "      <td>305</td>\n",
       "      <td>1.8</td>\n",
       "      <td>32</td>\n",
       "      <td>0.8</td>\n",
       "    </tr>\n",
       "  </tbody>\n",
       "</table>\n",
       "</div>"
      ],
      "text/plain": [
       "             high      low  lambda_start  lambda_end  impact_factor\n",
       "005      16950000  1695000           1.0           2            0.1\n",
       "005-009    855000    85500           1.1           4            0.2\n",
       "010-050    146100    14610           1.2           8            0.3\n",
       "050-100      8700      870           1.4          16            0.6\n",
       "100+         3050      305           1.8          32            0.8"
      ]
     },
     "execution_count": 3,
     "metadata": {},
     "output_type": "execute_result"
    }
   ],
   "source": [
    "# Make dictionary with size bins and frequency\n",
    "with open('sfd.csv', 'r') as f:\n",
    "    freqs = pd.read_csv(f).groupby('D').sum()\n",
    "los_dict = {i:0 for i in diam_labs}\n",
    "his_dict = {i:0 for i in diam_labs}\n",
    "for i in freqs.index.values:\n",
    "    for j in range(len(diam_bins)):\n",
    "        if i < diam_bins[j]:\n",
    "            los_dict[diam_labs[j]] += freqs.loc[i,'low']\n",
    "            his_dict[diam_labs[j]] += freqs.loc[i,'high']\n",
    "            break\n",
    "        elif i >= diam_bins[-1]:\n",
    "            los_dict[diam_labs[-1]] += freqs.loc[i,'low']\n",
    "            his_dict[diam_labs[-1]] += freqs.loc[i,'high']\n",
    "            break\n",
    "df_freq = pd.DataFrame.from_dict({'high':his_dict, 'low':los_dict, \n",
    "                                  'lambda_start':lambda_start, 'lambda_end':lambda_end})\n",
    "df_freq['impact_factor'] = [0.1,0.2,0.3,0.6,0.8]\n",
    "df_freq"
   ]
  },
  {
   "cell_type": "code",
   "execution_count": 4,
   "metadata": {},
   "outputs": [
    {
     "data": {
      "image/png": "[encoded data removed]",
      "text/plain": [
       "<Figure size 432x288 with 1 Axes>"
      ]
     },
     "metadata": {
      "needs_background": "light"
     },
     "output_type": "display_data"
    },
    {
     "name": "stdout",
     "output_type": "stream",
     "text": [
      "total impacts 2362950.0\n",
      "impacts by diameter {'005': 2239578.0, '005-009': 102029.0, '010-050': 15726.0, '050-100': 3533.0, '100+': 2084.0}\n",
      "fraction of total {'005': 0.95, '005-009': 0.04, '010-050': 0.01, '050-100': 0.0, '100+': 0.0}\n"
     ]
    },
    {
     "data": {
      "image/png": "[encoded data removed]",
      "text/plain": [
       "<Figure size 432x288 with 5 Axes>"
      ]
     },
     "metadata": {
      "needs_background": "light"
     },
     "output_type": "display_data"
    },
    {
     "data": {
      "text/html": [
       "<div>\n",
       "<style scoped>\n",
       "    .dataframe tbody tr th:only-of-type {\n",
       "        vertical-align: middle;\n",
       "    }\n",
       "\n",
       "    .dataframe tbody tr th {\n",
       "        vertical-align: top;\n",
       "    }\n",
       "\n",
       "    .dataframe thead th {\n",
       "        text-align: right;\n",
       "    }\n",
       "</style>\n",
       "<table border=\"1\" class=\"dataframe\">\n",
       "  <thead>\n",
       "    <tr style=\"text-align: right;\">\n",
       "      <th></th>\n",
       "      <th>high</th>\n",
       "      <th>low</th>\n",
       "      <th>lambda_start</th>\n",
       "      <th>lambda_end</th>\n",
       "      <th>impact_factor</th>\n",
       "      <th>total</th>\n",
       "    </tr>\n",
       "  </thead>\n",
       "  <tbody>\n",
       "    <tr>\n",
       "      <th>005</th>\n",
       "      <td>16950000</td>\n",
       "      <td>1695000</td>\n",
       "      <td>1.0</td>\n",
       "      <td>2</td>\n",
       "      <td>0.000074</td>\n",
       "      <td>2239578.0</td>\n",
       "    </tr>\n",
       "    <tr>\n",
       "      <th>005-009</th>\n",
       "      <td>855000</td>\n",
       "      <td>85500</td>\n",
       "      <td>1.1</td>\n",
       "      <td>4</td>\n",
       "      <td>0.001022</td>\n",
       "      <td>102029.0</td>\n",
       "    </tr>\n",
       "    <tr>\n",
       "      <th>010-050</th>\n",
       "      <td>146100</td>\n",
       "      <td>14610</td>\n",
       "      <td>1.2</td>\n",
       "      <td>8</td>\n",
       "      <td>0.003100</td>\n",
       "      <td>15726.0</td>\n",
       "    </tr>\n",
       "    <tr>\n",
       "      <th>050-100</th>\n",
       "      <td>8700</td>\n",
       "      <td>870</td>\n",
       "      <td>1.4</td>\n",
       "      <td>16</td>\n",
       "      <td>0.006050</td>\n",
       "      <td>3533.0</td>\n",
       "    </tr>\n",
       "    <tr>\n",
       "      <th>100+</th>\n",
       "      <td>3050</td>\n",
       "      <td>305</td>\n",
       "      <td>1.8</td>\n",
       "      <td>32</td>\n",
       "      <td>0.003631</td>\n",
       "      <td>2084.0</td>\n",
       "    </tr>\n",
       "  </tbody>\n",
       "</table>\n",
       "</div>"
      ],
      "text/plain": [
       "             high      low  lambda_start  lambda_end  impact_factor      total\n",
       "005      16950000  1695000           1.0           2       0.000074  2239578.0\n",
       "005-009    855000    85500           1.1           4       0.001022   102029.0\n",
       "010-050    146100    14610           1.2           8       0.003100    15726.0\n",
       "050-100      8700      870           1.4          16       0.006050     3533.0\n",
       "100+         3050      305           1.8          32       0.003631     2084.0"
      ]
     },
     "execution_count": 4,
     "metadata": {},
     "output_type": "execute_result"
    }
   ],
   "source": [
    "t_total=500\n",
    "\n",
    "fivehundredmillion = 500000000\n",
    "freq_factor = fivehundredmillion/t_total\n",
    "\n",
    "not_converged=True\n",
    "while not_converged:\n",
    "\n",
    "    pp = {x:np.zeros(t_total) for x in diam_labs}\n",
    "    l = {x:np.linspace(y,z,t_total) for x,y,z in zip(diam_labs,df_freq['lambda_start'],df_freq['lambda_end'])}\n",
    "\n",
    "    for D in diam_labs:\n",
    "        pp[D] = l[D]*np.exp(-l[D])\n",
    "\n",
    "    df = pd.DataFrame(data=pp)\n",
    "    hits = {d:np.zeros(t_total) for d in diam_labs}\n",
    "\n",
    "    # Main loop through time. Calculate the total number of impacts of each diameter at each time step\n",
    "    for t in range(0,t_total):\n",
    "        for D in diam_labs:\n",
    "            hits[D][t] = np.floor(np.random.poisson(pp[D][t] / df_freq.loc[D, 'impact_factor']))\n",
    "\n",
    "\n",
    "    total_sum = np.sum([hits[d] for d in diam_labs])\n",
    "    sums = {d:np.sum(hits[d]) for d in diam_labs}\n",
    "    frac = {d:np.round(np.sum(hits[d])/total_sum,2) for d in diam_labs}\n",
    "    \n",
    "    for d in diam_labs:\n",
    "        df_freq.loc[d,'total']=sums[d]\n",
    "    \n",
    "    good_numbers = 0\n",
    "    for d in diam_labs:\n",
    "        if df_freq.loc[d,'total'] < df_freq.loc[d,'low']:\n",
    "            df_freq.loc[d,'impact_factor'] = df_freq.loc[d,'impact_factor']*random.random()\n",
    "        elif df_freq.loc[d,'total'] > df_freq.loc[d,'high']:\n",
    "            df_freq.loc[d,'impact_factor'] = df_freq.loc[d,'impact_factor']*(1+random.random())\n",
    "        else:\n",
    "            good_numbers+=1\n",
    "    if good_numbers == df_freq.shape[0]:\n",
    "        not_converged = False\n",
    "    \n",
    "plt.plot(df)\n",
    "plt.legend(df.columns.values)\n",
    "plt.show()\n",
    "print('total impacts', total_sum)\n",
    "print('impacts by diameter', sums)\n",
    "print('fraction of total', frac)\n",
    "plot_time = np.linspace(0,fivehundredmillion,t_total+1)[1:]\n",
    "df = pd.DataFrame(data=hits, index=plot_time)\n",
    "df.plot(subplots=True)\n",
    "plt.tight_layout()\n",
    "plt.show()\n",
    "df_freq"
   ]
  },
  {
   "cell_type": "code",
   "execution_count": 5,
   "metadata": {},
   "outputs": [],
   "source": [
    "# approximate radius of earth in km\n",
    "def distance(lat1,lat2,lon1,lon2):\n",
    "    R = 6373.0\n",
    "\n",
    "    lat1 = radians(lat1)\n",
    "    lon1 = radians(lon1)\n",
    "    lat2 = radians(lat2)\n",
    "    lon2 = radians(lon2)\n",
    "    \n",
    "    dlon = lon2 - lon1\n",
    "    dlat = lat2 - lat1\n",
    "\n",
    "    a = sin(dlat / 2)**2 + cos(lat1) * cos(lat2) * sin(dlon / 2)**2\n",
    "    c = 2 * atan2(sqrt(a), sqrt(1 - a))\n",
    "\n",
    "    distance = R * c\n",
    "\n",
    "    return(distance) #km"
   ]
  },
  {
   "cell_type": "code",
   "execution_count": 164,
   "metadata": {},
   "outputs": [],
   "source": [
    "class IMPAaCS:\n",
    "    \n",
    "    #####      Input parameters (Read from Config file)      #############################\n",
    "    count_test_hits = 0\n",
    "    impact_test_id = str(round(-87.5726,4))+' '+str(round(33.2921,4))\n",
    "    grid_cell_state = {}\n",
    "    impacted_grid_cells = []\n",
    "    impactors_at_test_cell = [0]\n",
    "    test_time = [0]\n",
    "    \n",
    "    def __init__(self, egrid, \n",
    "                 primitive_initial_state=45,\n",
    "                 fraction_upper_layer = 2/3,\n",
    "                 target_SiO2 = 62.58,     # From sudbury\n",
    "                 upper_SiO2 = 68.71,      # From sudbury\n",
    "                 n_layers_impact_melt = 2,\n",
    "                 z_discretized_km = int(2),\n",
    "                 proportion_melt_from_impact = 1/3):\n",
    "        self.egrid = egrid\n",
    "        self.primitive_initial_state = primitive_initial_state\n",
    "        self.fraction_upper_layer = fraction_upper_layer        # d_upper / Mi (from Sudbury)\n",
    "        self.fraction_lower_layer = 1-self.fraction_upper_layer # d_lower / Mi (from Sudbury)\n",
    "        self.n_layers_impact_melt = n_layers_impact_melt\n",
    "        self.target_SiO2 = target_SiO2 # From sudbury\n",
    "        self.upper_SiO2 = upper_SiO2  # From sudbury\n",
    "        self.z_discretized_km = z_discretized_km\n",
    "        self.proportion_melt_from_impact = proportion_melt_from_impact\n",
    "        self.average_target = self.primitive_initial_state\n",
    "        self.average_target_list = [self.primitive_initial_state]\n",
    "        self.top_layer_at_test_cell = [self.primitive_initial_state]\n",
    "        self.average_test_target_list = [self.primitive_initial_state]\n",
    "\n",
    "    #--------------------------------------------------------------------------------------------------\n",
    "    def update(self, impact_loc, impactor_diameter):\n",
    "        self.impact_dimensions(impactor_diameter)\n",
    "        self.find_the_grid(impact_loc)\n",
    "        self.get_average_target(impactor_diameter)\n",
    "        self.loop_impact_grid(impactor_diameter)\n",
    "        \n",
    "    #--------------------------------------------------------------------------------------------------\n",
    "    def state_dynamics(self, impactor_diameter, grid_cell_id):\n",
    "        \"\"\"\n",
    "        This is the critical component of this model\n",
    "        This function will change the chemical makeup of each grid cell\n",
    "            according to the chemical theory put forward by Faltys-Wielicki [2021]\n",
    "        \"\"\"\n",
    "        \n",
    "        #####      DYNAMIC FACTORS       ############################\n",
    "        depth_of_impact_melt = impactor_diameter * self.proportion_melt_from_impact # D/3\n",
    "\n",
    "        #Vertical discretization.\n",
    "        melt_layers = int(depth_of_impact_melt / self.z_discretized_km)\n",
    "\n",
    "        lower_layer  = range(int(round(self.fraction_upper_layer * melt_layers,2)), melt_layers)\n",
    "        upper_layer  = range(0, int(round(self.fraction_upper_layer * melt_layers,2)))\n",
    "\n",
    "        fracionated_melt = depth_of_impact_melt * self.fraction_upper_layer #Units: km\n",
    "\n",
    "        fractionation_factor = 1 - (self.target_SiO2 / self.upper_SiO2)\n",
    "\n",
    "        #####      DO THE DYANMICS       #############################\n",
    "        # Set lower layer to primitive initial state.  \n",
    "        for i in lower_layer:\n",
    "            self.grid_cell_state[grid_cell_id][i] = self.primitive_initial_state\n",
    "\n",
    "        # Impact melt portion  (Upper)\n",
    "        for i in upper_layer:\n",
    "            self.grid_cell_state[grid_cell_id][i] = self.average_target / (1 - fractionation_factor)\n",
    "\n",
    "        # Weighted average of upper    \n",
    "        wt_sio2_upper = self.grid_cell_state[grid_cell_id][0]\n",
    "\n",
    "        # Lower of impact melt portion\n",
    "        for i in lower_layer:\n",
    "            numerator = self.average_target-(self.fraction_upper_layer * wt_sio2_upper)\n",
    "            self.grid_cell_state[grid_cell_id][i] = numerator / self.fraction_lower_layer\n",
    "\n",
    "        for i in range(melt_layers):\n",
    "            self.grid_cell_state[grid_cell_id][i] = np.round(self.grid_cell_state[grid_cell_id][i],1)\n",
    "    \n",
    "    #--------------------------------------------------------------------------------------------------    \n",
    "    def state_prep(self, grid_cell_id, impact_diameter):\n",
    "\n",
    "        ##### Set the initial state values\n",
    "        if grid_cell_id not in self.grid_cell_state.keys():\n",
    "            self.grid_cell_state[grid_cell_id] = np.ones(self.z_layers) * self.primitive_initial_state\n",
    "        else: # If there is an existing state key, \n",
    "              # and the current impact depth is larger than the z layers, \n",
    "              # then extend the z layers\n",
    "            existing_z_layers = self.grid_cell_state[grid_cell_id].shape[0]\n",
    "            if self.z_layers > existing_z_layers:\n",
    "                self.grid_cell_state[grid_cell_id] = np.append(grid_cell_state[grid_cell_id], \n",
    "                                            np.ones(z_layers - existing_z_layers) * self.primitive_initial_state)\n",
    "    \n",
    "    #--------------------------------------------------------------------------------------------------    \n",
    "    def get_average_target(self, impactor_diameter):\n",
    "        average_target = 0\n",
    "        for grid_cell in self.impacted_grid_cells:\n",
    "            grid_cell_id = str(round(grid_cell[0],4))+' '+str(round(grid_cell[1],4))\n",
    "            ### If the grid cell has not been hit yet, it is the initial primitive value\n",
    "            if grid_cell_id in self.grid_cell_state.keys():\n",
    "                average_target += np.sum(self.grid_cell_state[grid_cell_id][:self.z_layers])\n",
    "            else:\n",
    "                average_target += self.primitive_initial_state * self.z_layers\n",
    "        self.average_target = average_target/(len(self.impacted_grid_cells) * self.z_layers)\n",
    "        print(self.average_target)\n",
    "        \n",
    "    #--------------------------------------------------------------------------------------------------    \n",
    "    def find_the_grid(self, impact_loc):\n",
    "        self.impacted_grid_cells = [] # first reset the impacted grid cells, then fill them up\n",
    "        for ilon in self.egrid.londim:\n",
    "            for ilat in self.egrid.latdim:\n",
    "                D = distance(impact_loc[0],ilat,impact_loc[1],ilon)\n",
    "                if D < self.crator_radius:\n",
    "                    self.impacted_grid_cells.append([ilon, ilat])\n",
    "\n",
    "    #--------------------------------------------------------------------------------------------------    \n",
    "    def loop_impact_grid(self, impactor_diameter):\n",
    "        for grid_cell in self.impacted_grid_cells:\n",
    "            grid_cell_id = str(round(grid_cell[0],4))+' '+str(round(grid_cell[1],4))\n",
    "\n",
    "            ##### Set the initial state values\n",
    "            self.state_prep(grid_cell_id, impact_diameter)\n",
    "\n",
    "            ################      DO THE DYANMICS       #############################\n",
    "            self.state_dynamics(impactor_diameter, grid_cell_id)\n",
    "\n",
    "            self.test_one_grid_cell(grid_cell_id, impactor_diameter)\n",
    "    #--------------------------------------------------------------------------------------------------    \n",
    "    def impact_dimensions(self, impactor_diameter):\n",
    "            # The impact crator is 10*Diameter, so the radius is half that\n",
    "            self.crator_diameter = 10*impactor_diameter\n",
    "            self.crator_radius = self.crator_diameter/2\n",
    "            self.z_layers = int(np.ceil(impactor_diameter / self.z_discretized_km))\n",
    "\n",
    "    #--------------------------------------------------------------------------------------------------    \n",
    "    def test_one_grid_cell(self, grid_cell_id, impactor_diameter):\n",
    "        ##### Testing one cell:\n",
    "        if grid_cell_id == self.impact_test_id:\n",
    "            self.count_test_hits+=1\n",
    "            self.test_time.append(t+1000000)\n",
    "            self.impactors_at_test_cell.append(impactor_diameter)\n",
    "            self.average_test_target_list.append(self.average_target)\n",
    "            self.top_layer_at_test_cell.append(self.grid_cell_state[self.impact_test_id][0])"
   ]
  },
  {
   "cell_type": "code",
   "execution_count": 165,
   "metadata": {},
   "outputs": [
    {
     "name": "stdout",
     "output_type": "stream",
     "text": [
      "time 0\n",
      "45.0\n",
      "This is only a test. I am forcing impacts at one location to test the dynamics\n",
      "330 diameter IMPAaC at Test cell: -87.5726 33.2921\n",
      "average_target: 45.0, across 6541 grid cells\n",
      "SiO2 states:\n",
      "[49.4, 49.4, 49.4, 49.4, 49.4, 49.4, 49.4, 49.4, 49.4, 49.4, 49.4, 49.4, 49.4, 49.4, 49.4, 49.4, 49.4, 49.4, 49.4, 49.4, 49.4, 49.4, 49.4, 49.4, 49.4, 49.4, 49.4, 49.4, 49.4, 49.4, 49.4, 49.4, 49.4, 49.4, 49.4, 49.4, 36.2, 36.2, 36.2, 36.2, 36.2, 36.2, 36.2, 36.2, 36.2, 36.2, 36.2, 36.2, 36.2, 36.2, 36.2, 36.2, 36.2, 36.2, 36.2, 45.0, 45.0, 45.0, 45.0, 45.0, 45.0, 45.0, 45.0, 45.0, 45.0, 45.0, 45.0, 45.0, 45.0, 45.0, 45.0, 45.0, 45.0, 45.0, 45.0]\n",
      " \n",
      "time 1\n",
      "49.04324324324295\n",
      "This is only a test. I am forcing impacts at one location to test the dynamics\n",
      "73 diameter IMPAaC at Test cell: -87.5726 33.2921\n",
      "average_target: 49.0, across 323 grid cells\n",
      "SiO2 states:\n",
      "[53.8, 53.8, 53.8, 53.8, 53.8, 53.8, 53.8, 53.8, 39.4, 39.4, 39.4, 39.4, 49.4, 49.4, 49.4, 49.4, 49.4, 49.4, 49.4, 49.4, 49.4, 49.4, 49.4, 49.4, 49.4, 49.4, 49.4, 49.4, 49.4, 49.4, 49.4, 49.4, 49.4, 49.4, 49.4, 49.4, 36.2, 36.2, 36.2, 36.2, 36.2, 36.2, 36.2, 36.2, 36.2, 36.2, 36.2, 36.2, 36.2, 36.2, 36.2, 36.2, 36.2, 36.2, 36.2, 45.0, 45.0, 45.0, 45.0, 45.0, 45.0, 45.0, 45.0, 45.0, 45.0, 45.0, 45.0, 45.0, 45.0, 45.0, 45.0, 45.0, 45.0, 45.0, 45.0]\n",
      " \n",
      "time 2\n",
      "53.79999999999998\n",
      "This is only a test. I am forcing impacts at one location to test the dynamics\n",
      "16 diameter IMPAaC at Test cell: -87.5726 33.2921\n",
      "average_target: 53.8, across 17 grid cells\n",
      "SiO2 states:\n",
      "[59.1, 43.3, 53.8, 53.8, 53.8, 53.8, 53.8, 53.8, 39.4, 39.4, 39.4, 39.4, 49.4, 49.4, 49.4, 49.4, 49.4, 49.4, 49.4, 49.4, 49.4, 49.4, 49.4, 49.4, 49.4, 49.4, 49.4, 49.4, 49.4, 49.4, 49.4, 49.4, 49.4, 49.4, 49.4, 49.4, 36.2, 36.2, 36.2, 36.2, 36.2, 36.2, 36.2, 36.2, 36.2, 36.2, 36.2, 36.2, 36.2, 36.2, 36.2, 36.2, 36.2, 36.2, 36.2, 45.0, 45.0, 45.0, 45.0, 45.0, 45.0, 45.0, 45.0, 45.0, 45.0, 45.0, 45.0, 45.0, 45.0, 45.0, 45.0, 45.0, 45.0, 45.0, 45.0]\n",
      " \n",
      "time 3\n",
      "52.76\n",
      "This is only a test. I am forcing impacts at one location to test the dynamics\n",
      "10 diameter IMPAaC at Test cell: -87.5726 33.2921\n",
      "average_target: 52.8, across 5 grid cells\n",
      "SiO2 states:\n",
      "[68.3, 43.3, 53.8, 53.8, 53.8, 53.8, 53.8, 53.8, 39.4, 39.4, 39.4, 39.4, 49.4, 49.4, 49.4, 49.4, 49.4, 49.4, 49.4, 49.4, 49.4, 49.4, 49.4, 49.4, 49.4, 49.4, 49.4, 49.4, 49.4, 49.4, 49.4, 49.4, 49.4, 49.4, 49.4, 49.4, 36.2, 36.2, 36.2, 36.2, 36.2, 36.2, 36.2, 36.2, 36.2, 36.2, 36.2, 36.2, 36.2, 36.2, 36.2, 36.2, 36.2, 36.2, 36.2, 45.0, 45.0, 45.0, 45.0, 45.0, 45.0, 45.0, 45.0, 45.0, 45.0, 45.0, 45.0, 45.0, 45.0, 45.0, 45.0, 45.0, 45.0, 45.0, 45.0]\n",
      " \n",
      "time 4\n",
      "55.133333333333326\n",
      "This is only a test. I am forcing impacts at one location to test the dynamics\n",
      "5 diameter IMPAaC at Test cell: -87.5726 33.2921\n",
      "average_target: 55.1, across 1 grid cells\n",
      "SiO2 states:\n",
      "[68.3, 43.3, 53.8, 53.8, 53.8, 53.8, 53.8, 53.8, 39.4, 39.4, 39.4, 39.4, 49.4, 49.4, 49.4, 49.4, 49.4, 49.4, 49.4, 49.4, 49.4, 49.4, 49.4, 49.4, 49.4, 49.4, 49.4, 49.4, 49.4, 49.4, 49.4, 49.4, 49.4, 49.4, 49.4, 49.4, 36.2, 36.2, 36.2, 36.2, 36.2, 36.2, 36.2, 36.2, 36.2, 36.2, 36.2, 36.2, 36.2, 36.2, 36.2, 36.2, 36.2, 36.2, 36.2, 45.0, 45.0, 45.0, 45.0, 45.0, 45.0, 45.0, 45.0, 45.0, 45.0, 45.0, 45.0, 45.0, 45.0, 45.0, 45.0, 45.0, 45.0, 45.0, 45.0]\n",
      " \n",
      "time 5\n",
      "68.3\n",
      "This is only a test. I am forcing impacts at one location to test the dynamics\n",
      "2 diameter IMPAaC at Test cell: -87.5726 33.2921\n",
      "average_target: 68.3, across 1 grid cells\n",
      "SiO2 states:\n",
      "[68.3, 43.3, 53.8, 53.8, 53.8, 53.8, 53.8, 53.8, 39.4, 39.4, 39.4, 39.4, 49.4, 49.4, 49.4, 49.4, 49.4, 49.4, 49.4, 49.4, 49.4, 49.4, 49.4, 49.4, 49.4, 49.4, 49.4, 49.4, 49.4, 49.4, 49.4, 49.4, 49.4, 49.4, 49.4, 49.4, 36.2, 36.2, 36.2, 36.2, 36.2, 36.2, 36.2, 36.2, 36.2, 36.2, 36.2, 36.2, 36.2, 36.2, 36.2, 36.2, 36.2, 36.2, 36.2, 45.0, 45.0, 45.0, 45.0, 45.0, 45.0, 45.0, 45.0, 45.0, 45.0, 45.0, 45.0, 45.0, 45.0, 45.0, 45.0, 45.0, 45.0, 45.0, 45.0]\n",
      " \n"
     ]
    }
   ],
   "source": [
    "I = IMPAaCS(egrid)\n",
    "\n",
    "impact_test_diameters = [330, 73, 16, 10, 5, 2]\n",
    "\n",
    "# Loop through impacts, the df has them stored by time and diameter bn\n",
    "for it, t in enumerate(df.index.values):\n",
    "    print('time', it)\n",
    "    for d in diam_labs[3:]:\n",
    "        for i in range(int(df.loc[t,d])):\n",
    "\n",
    "            # locate the the impacts on earth\n",
    "            impact_lat = random.randrange(-90,90)\n",
    "            impact_lon = random.randrange(-180,180)\n",
    "            impact_loc = [impact_lat, impact_lon]\n",
    "\n",
    "            # Specify the diameter within the bin\n",
    "            ##### Using this to troubleshoot! \n",
    "            ##### I set each impact to hit the same location, \n",
    "            ##### so there should be a lot of action at a select set of cells.\n",
    "            if it < len(impact_test_diameters):                  # TROUBLESHOOTING\n",
    "                impactor_diameter = impact_test_diameters[it]    # TROUBLESHOOTING\n",
    "                impact_lat = 33.2921                             # TROUBLESHOOTING\n",
    "                impact_lon = -87.5726                            # TROUBLESHOOTING\n",
    "                impact_loc = [impact_lat, impact_lon]            # TROUBLESHOOTING\n",
    "            else:                                                # TROUBLESHOOTING\n",
    "                impactor_diameter = random.randrange(diam_range[d][0],diam_range[d][1])\n",
    "\n",
    "                \n",
    "            #####      DO THE DYANMICS       #############################\n",
    "            I.update(impact_loc, impactor_diameter)\n",
    "\n",
    "\n",
    "            ##### Using this to troubleshoot! \n",
    "            ##### I set each impact to hit the same location, \n",
    "            ##### so there should be a lot of action at a select set of cells.\n",
    "            break\n",
    "\n",
    "        print(\"This is only a test. I am forcing impacts at one location to test the dynamics\")\n",
    "        print('{} diameter IMPAaC at Test cell: {}'.format(impactor_diameter, \n",
    "                                                           I.impact_test_id))\n",
    "        print('average_target: {}, across {} grid cells'.format(np.round(I.average_target,1), \n",
    "                                                        len(I.impacted_grid_cells)))\n",
    "        print(\"SiO2 states:\")\n",
    "        print(list(I.grid_cell_state[I.impact_test_id])[0:75])\n",
    "        print(\" \")\n",
    "        break\n",
    "\n",
    "    if it > 4:\n",
    "        break\n",
    "        "
   ]
  },
  {
   "cell_type": "code",
   "execution_count": 161,
   "metadata": {},
   "outputs": [
    {
     "data": {
      "text/plain": [
       "[45]"
      ]
     },
     "execution_count": 161,
     "metadata": {},
     "output_type": "execute_result"
    }
   ],
   "source": [
    "I.average_target_list"
   ]
  },
  {
   "cell_type": "code",
   "execution_count": 166,
   "metadata": {},
   "outputs": [
    {
     "data": {
      "text/plain": [
       "Text(0, 0.5, 'SiO2')"
      ]
     },
     "execution_count": 166,
     "metadata": {},
     "output_type": "execute_result"
    },
    {
     "data": {
      "image/png": "[encoded data removed]",
      "text/plain": [
       "<Figure size 432x288 with 1 Axes>"
      ]
     },
     "metadata": {
      "needs_background": "light"
     },
     "output_type": "display_data"
    }
   ],
   "source": [
    "plt.plot(I.test_time, I.average_test_target_list)\n",
    "plt.plot(I.test_time, I.top_layer_at_test_cell)\n",
    "plt.legend([\"average target\", \"top layer, single cell\"])\n",
    "plt.xlabel(\"time\")\n",
    "plt.ylabel(\"SiO2\")"
   ]
  },
  {
   "cell_type": "code",
   "execution_count": 167,
   "metadata": {},
   "outputs": [
    {
     "data": {
      "text/plain": [
       "[<matplotlib.lines.Line2D at 0x11c193c18>]"
      ]
     },
     "execution_count": 167,
     "metadata": {},
     "output_type": "execute_result"
    },
    {
     "data": {
      "image/png": "[encoded data removed]",
      "text/plain": [
       "<Figure size 432x288 with 1 Axes>"
      ]
     },
     "metadata": {
      "needs_background": "light"
     },
     "output_type": "display_data"
    }
   ],
   "source": [
    "plt.plot(I.impactors_at_test_cell)"
   ]
  },
  {
   "cell_type": "code",
   "execution_count": 176,
   "metadata": {},
   "outputs": [
    {
     "data": {
      "text/plain": [
       "165"
      ]
     },
     "execution_count": 176,
     "metadata": {},
     "output_type": "execute_result"
    }
   ],
   "source": [
    "len(I.grid_cell_state[I.impact_test_id])"
   ]
  },
  {
   "cell_type": "code",
   "execution_count": null,
   "metadata": {},
   "outputs": [],
   "source": []
  }
 ],
 "metadata": {
  "kernelspec": {
   "display_name": "Python 3",
   "language": "python",
   "name": "python3"
  },
  "language_info": {
   "codemirror_mode": {
    "name": "ipython",
    "version": 3
   },
   "file_extension": ".py",
   "mimetype": "text/x-python",
   "name": "python",
   "nbconvert_exporter": "python",
   "pygments_lexer": "ipython3",
   "version": "3.7.2"
  }
 },
 "nbformat": 4,
 "nbformat_minor": 2
}
